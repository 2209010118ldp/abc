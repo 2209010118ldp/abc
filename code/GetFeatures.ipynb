{
 "cells": [
  {
   "cell_type": "markdown",
   "metadata": {},
   "source": [
    "#### 合并人工AI数据集加上标签"
   ]
  },
  {
   "cell_type": "code",
   "execution_count": 18,
   "metadata": {},
   "outputs": [],
   "source": [
    "import pandas as pd  \n",
    "import numpy as np\n",
    "\n",
    "# 文件路径  \n",
    "ai_file = '../results/generated_reviews.txt'  # AI生成的评论文件  \n",
    "human_file = \"../data(temp)/unique_comments.txt\" # 人工生成的评论文件  \n",
    "\n",
    "# 初始化列表来存储评论和标签  \n",
    "comments = []  \n",
    "labels = []  \n",
    "\n",
    "# 读取AI生成的评论  \n",
    "with open(ai_file, 'r', encoding='utf-8') as f:  \n",
    "    for line in f:  \n",
    "        comments.append(line.strip())  # 移除首尾空白字符  \n",
    "        labels.append(\"AI\")   \n",
    "\n",
    "# 读取人工生成的评论  \n",
    "with open(human_file, 'r', encoding='utf-8') as f:  \n",
    "    for line in f:  \n",
    "        comments.append(line.strip())  # 移除首尾空白字符  \n",
    "        labels.append(\"Human\")  \n",
    "\n",
    "# 创建DataFrame  \n",
    "data = pd.DataFrame({  \n",
    "    'comment': comments,  \n",
    "    'label': labels  \n",
    "})  \n",
    "\n",
    "# 保存为CSV文件  \n",
    "data.to_csv('../results/review_labeled.csv', index=False, encoding='utf-8')  "
   ]
  },
  {
   "cell_type": "markdown",
   "metadata": {},
   "source": [
    "### 特征提取"
   ]
  },
  {
   "cell_type": "code",
   "execution_count": 19,
   "metadata": {},
   "outputs": [],
   "source": [
    "import pandas as pd\n",
    "import numpy as np\n",
    "from sklearn.feature_extraction.text import TfidfVectorizer  \n",
    "from scipy.sparse import hstack  "
   ]
  },
  {
   "cell_type": "code",
   "execution_count": 20,
   "metadata": {},
   "outputs": [
    {
     "name": "stdout",
     "output_type": "stream",
     "text": [
      "(5810, 2)\n"
     ]
    },
    {
     "data": {
      "text/html": [
       "<div>\n",
       "<style scoped>\n",
       "    .dataframe tbody tr th:only-of-type {\n",
       "        vertical-align: middle;\n",
       "    }\n",
       "\n",
       "    .dataframe tbody tr th {\n",
       "        vertical-align: top;\n",
       "    }\n",
       "\n",
       "    .dataframe thead th {\n",
       "        text-align: right;\n",
       "    }\n",
       "</style>\n",
       "<table border=\"1\" class=\"dataframe\">\n",
       "  <thead>\n",
       "    <tr style=\"text-align: right;\">\n",
       "      <th></th>\n",
       "      <th>comment</th>\n",
       "      <th>label</th>\n",
       "    </tr>\n",
       "  </thead>\n",
       "  <tbody>\n",
       "    <tr>\n",
       "      <th>0</th>\n",
       "      <td>有去屑效果不错。</td>\n",
       "      <td>AI</td>\n",
       "    </tr>\n",
       "    <tr>\n",
       "      <th>1</th>\n",
       "      <td>效果出乎意料的好。</td>\n",
       "      <td>AI</td>\n",
       "    </tr>\n",
       "    <tr>\n",
       "      <th>2</th>\n",
       "      <td>这款洗发水去油力还是很不错的。</td>\n",
       "      <td>AI</td>\n",
       "    </tr>\n",
       "    <tr>\n",
       "      <th>3</th>\n",
       "      <td>香味也很好味。</td>\n",
       "      <td>AI</td>\n",
       "    </tr>\n",
       "    <tr>\n",
       "      <th>4</th>\n",
       "      <td>现在头发清爽蓬松了😇洗完头发很香。</td>\n",
       "      <td>AI</td>\n",
       "    </tr>\n",
       "  </tbody>\n",
       "</table>\n",
       "</div>"
      ],
      "text/plain": [
       "             comment label\n",
       "0           有去屑效果不错。    AI\n",
       "1          效果出乎意料的好。    AI\n",
       "2    这款洗发水去油力还是很不错的。    AI\n",
       "3            香味也很好味。    AI\n",
       "4  现在头发清爽蓬松了😇洗完头发很香。    AI"
      ]
     },
     "execution_count": 20,
     "metadata": {},
     "output_type": "execute_result"
    }
   ],
   "source": [
    "# 读取数据集  \n",
    "df = pd.read_csv('../results/review_labeled.csv')  \n",
    "print(df.shape)\n",
    "df.head()\n"
   ]
  },
  {
   "cell_type": "code",
   "execution_count": 21,
   "metadata": {},
   "outputs": [
    {
     "data": {
      "text/plain": [
       "label\n",
       "Human    5248\n",
       "AI        562\n",
       "Name: count, dtype: int64"
      ]
     },
     "execution_count": 21,
     "metadata": {},
     "output_type": "execute_result"
    }
   ],
   "source": [
    "df.label.value_counts()"
   ]
  },
  {
   "cell_type": "code",
   "execution_count": 22,
   "metadata": {},
   "outputs": [],
   "source": [
    "# 提取标签  \n",
    "y = df['label'].values  "
   ]
  },
  {
   "cell_type": "markdown",
   "metadata": {},
   "source": [
    "#### 提取评论长度特征"
   ]
  },
  {
   "cell_type": "code",
   "execution_count": 23,
   "metadata": {},
   "outputs": [
    {
     "data": {
      "text/plain": [
       "array([[ 8],\n",
       "       [ 9],\n",
       "       [15],\n",
       "       [ 7],\n",
       "       [17]], dtype=int64)"
      ]
     },
     "execution_count": 23,
     "metadata": {},
     "output_type": "execute_result"
    }
   ],
   "source": [
    "# 提取评论长度特征  \n",
    "df['评论长度'] = df['comment'].apply(len)  \n",
    "X_length = df['评论长度'].values.reshape(-1, 1)  \n",
    "X_length[:5]"
   ]
  },
  {
   "cell_type": "code",
   "execution_count": 24,
   "metadata": {},
   "outputs": [
    {
     "data": {
      "text/plain": [
       "(5810, 1)"
      ]
     },
     "execution_count": 24,
     "metadata": {},
     "output_type": "execute_result"
    }
   ],
   "source": [
    "X_length.shape"
   ]
  },
  {
   "cell_type": "markdown",
   "metadata": {},
   "source": [
    "#### 提取情感特征"
   ]
  },
  {
   "cell_type": "code",
   "execution_count": 25,
   "metadata": {},
   "outputs": [
    {
     "data": {
      "text/plain": [
       "array([[0.89510894],\n",
       "       [0.95054448],\n",
       "       [0.94951706],\n",
       "       ...,\n",
       "       [0.14661936],\n",
       "       [0.31366405],\n",
       "       [0.28368982]])"
      ]
     },
     "execution_count": 25,
     "metadata": {},
     "output_type": "execute_result"
    }
   ],
   "source": [
    "from snownlp import SnowNLP\n",
    "from snownlp import sentiment\n",
    "X_sentiment=[]\n",
    "for review in df['comment']:\n",
    "    X_sentiment.append(SnowNLP(review).sentiments)\n",
    "X_sentiment=np.array([X_sentiment]).reshape(-1,1)\n",
    "X_sentiment"
   ]
  },
  {
   "cell_type": "markdown",
   "metadata": {},
   "source": [
    "#### doc2vec模型评论向量化"
   ]
  },
  {
   "cell_type": "code",
   "execution_count": 26,
   "metadata": {},
   "outputs": [],
   "source": [
    "import gensim\n",
    "import re\n",
    "import jieba\n",
    "import numpy\n",
    "from random import shuffle\n",
    "import csv\n",
    "from gensim.models.doc2vec import Doc2Vec\n",
    "TaggededDocument = gensim.models.doc2vec.TaggedDocument\n",
    "jieba.setLogLevel(jieba.logging.INFO)\n",
    "\n",
    "#清洗评论\n",
    "def CleanReview(reviews):\n",
    "    corpus=[]\n",
    "    documents=[]\n",
    "    sens=[]\n",
    "    for i,each in enumerate(reviews):\n",
    "        cut=jieba.lcut(each)\n",
    "        text2=[]\n",
    "        for word in cut:\n",
    "            word=re.sub(\"[\\s+\\.\\!\\/_,$%^*(+\\\"\\'””《》]+|[+——！，。？、~@#￥%……&*（）：；‘]+\", \"\", word)#去除标点\n",
    "            if word=='':#去除空字符\n",
    "                continue\n",
    "            text2.append(word)\n",
    "        sens.append(text2)\n",
    "        document = TaggededDocument(text2, tags=[i])\n",
    "        corpus.append(document)\n",
    "    return corpus,sens\n",
    "#向量化\n",
    "def doc2vec(corpus,sens):\n",
    "    model_dm = Doc2Vec(corpus, min_count=10, window=5, vector_size=5, sample=1e-3, negative=5, workers=4, dm=1)\n",
    "    model_dm.train(corpus, total_examples=model_dm.corpus_count, epochs=7)\n",
    "    vecs=[]\n",
    "    for review in sens:\n",
    "        vecs.append(list(model_dm.infer_vector(review)))\n",
    "    #print(vecs[0:5])\n",
    "    return vecs"
   ]
  },
  {
   "cell_type": "code",
   "execution_count": 27,
   "metadata": {},
   "outputs": [
    {
     "data": {
      "text/plain": [
       "[[-0.12752274, 0.11628099, 0.22830112, -0.18975261, -0.16636792],\n",
       " [0.025836684, 0.1449949, 0.1828782, -0.15542218, -0.053922012],\n",
       " [-0.045734104, -0.07316635, 0.07131091, -0.20920639, 0.036670204],\n",
       " [-0.15878037, 0.050874963, 0.04367473, -0.07818805, 0.037930083],\n",
       " [0.0054226303, -0.065615356, -0.03716296, -0.052784067, 0.08632608]]"
      ]
     },
     "execution_count": 27,
     "metadata": {},
     "output_type": "execute_result"
    }
   ],
   "source": [
    "corpus,sens=CleanReview(df['comment'])\n",
    "Vecs=doc2vec(corpus,sens)\n",
    "Vecs[:5]"
   ]
  },
  {
   "cell_type": "code",
   "execution_count": 28,
   "metadata": {},
   "outputs": [
    {
     "data": {
      "text/plain": [
       "(5810, 5)"
      ]
     },
     "execution_count": 28,
     "metadata": {},
     "output_type": "execute_result"
    }
   ],
   "source": [
    "X_Vecs=np.array(Vecs)\n",
    "X_Vecs.shape"
   ]
  },
  {
   "cell_type": "markdown",
   "metadata": {},
   "source": [
    "#### 合并特征"
   ]
  },
  {
   "cell_type": "code",
   "execution_count": 29,
   "metadata": {},
   "outputs": [
    {
     "data": {
      "text/plain": [
       "array([[-1.27522737e-01,  1.16280988e-01,  2.28301123e-01,\n",
       "        -1.89752609e-01, -1.66367918e-01,  8.00000000e+00,\n",
       "         8.95108942e-01],\n",
       "       [ 2.58366838e-02,  1.44994900e-01,  1.82878196e-01,\n",
       "        -1.55422181e-01, -5.39220124e-02,  9.00000000e+00,\n",
       "         9.50544476e-01],\n",
       "       [-4.57341038e-02, -7.31663480e-02,  7.13109076e-02,\n",
       "        -2.09206387e-01,  3.66702043e-02,  1.50000000e+01,\n",
       "         9.49517061e-01],\n",
       "       [-1.58780366e-01,  5.08749634e-02,  4.36747298e-02,\n",
       "        -7.81880468e-02,  3.79300825e-02,  7.00000000e+00,\n",
       "         9.48379958e-01],\n",
       "       [ 5.42263035e-03, -6.56153560e-02, -3.71629596e-02,\n",
       "        -5.27840666e-02,  8.63260776e-02,  1.70000000e+01,\n",
       "         2.69619373e-01]])"
      ]
     },
     "execution_count": 29,
     "metadata": {},
     "output_type": "execute_result"
    }
   ],
   "source": [
    "X =np.hstack((X_Vecs,X_length,X_sentiment))\n",
    "X[:5]"
   ]
  },
  {
   "cell_type": "markdown",
   "metadata": {},
   "source": [
    "#### 降维可视化数据"
   ]
  },
  {
   "cell_type": "code",
   "execution_count": 30,
   "metadata": {},
   "outputs": [
    {
     "data": {
      "image/png": "[encoded data removed]",
      "text/plain": [
       "<Figure size 800x600 with 1 Axes>"
      ]
     },
     "metadata": {},
     "output_type": "display_data"
    }
   ],
   "source": [
    "import numpy as np  \n",
    "import pandas as pd  \n",
    "from sklearn.decomposition import PCA  \n",
    "import matplotlib.pyplot as plt  \n",
    "  \n",
    "# 使用 PCA 降维到 2 维  \n",
    "pca = PCA(n_components=2)  \n",
    "X_reduced = pca.fit_transform(X)  \n",
    "\n",
    "# 假设 y 里面有 0 和 1 两种类别  \n",
    "# 绘制散点图  \n",
    "plt.figure(figsize=(8, 6))  \n",
    "plt.scatter(X_reduced[y == \"Human\", 0], X_reduced[y == \"Human\", 1], label='Human', color='blue', alpha=1,s=5)  \n",
    "plt.scatter(X_reduced[y == \"AI\", 0], X_reduced[y == \"AI\", 1], label='AI', color='orange', alpha=0.8,s=5)  \n",
    "\n",
    "plt.title('PCA of Comments')  \n",
    "plt.xlabel('Principal Component 1')  \n",
    "plt.ylabel('Principal Component 2')  \n",
    "plt.legend()  \n",
    "plt.grid()  \n",
    "plt.show() "
   ]
  },
  {
   "cell_type": "markdown",
   "metadata": {},
   "source": [
    "#### 保存数据"
   ]
  },
  {
   "cell_type": "code",
   "execution_count": 31,
   "metadata": {},
   "outputs": [],
   "source": [
    "import csv  \n",
    "# 将数据写入CSV文件  \n",
    "with open('../results/review_featured.csv', 'w', newline='', encoding='utf-8') as csvfile:  \n",
    "    writer = csv.writer(csvfile)  \n",
    "    writer.writerow(['vec1','vec2','vec3','vec4','vec5','length','sentiment','label'])  # 写入表头  \n",
    "    for i,x in enumerate(X):  \n",
    "        x1=list(x)\n",
    "        x1.append(y[i])\n",
    "        writer.writerow(x1)  "
   ]
  }
 ],
 "metadata": {
  "kernelspec": {
   "display_name": "Python 3 (ipykernel)",
   "language": "python",
   "name": "python3"
  },
  "language_info": {
   "codemirror_mode": {
    "name": "ipython",
    "version": 3
   },
   "file_extension": ".py",
   "mimetype": "text/x-python",
   "name": "python",
   "nbconvert_exporter": "python",
   "pygments_lexer": "ipython3",
   "version": "3.9.13"
  }
 },
 "nbformat": 4,
 "nbformat_minor": 2
}
